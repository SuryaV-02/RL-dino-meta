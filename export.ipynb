{
 "cells": [
  {
   "cell_type": "markdown",
   "id": "b9a6afc5",
   "metadata": {
    "gradient": {
     "editing": false,
     "id": "b9a6afc5",
     "kernelId": "7ff4c2ba-b572-4533-9ab1-c81182b315fa"
    }
   },
   "source": [
    "# SKHST"
   ]
  },
  {
   "cell_type": "code",
   "execution_count": null,
   "id": "34a5aeee-24e0-470c-9cf2-6a41a91299b4",
   "metadata": {
    "gradient": {
     "editing": false,
     "execution_count": 2,
     "id": "34a5aeee-24e0-470c-9cf2-6a41a91299b4",
     "kernelId": "7ff4c2ba-b572-4533-9ab1-c81182b315fa",
     "source_hidden": false
    }
   },
   "outputs": [
    {
     "name": "stdout",
     "output_type": "stream",
     "text": [
      "Looking in indexes: https://pypi.org/simple, https://pypi.ngc.nvidia.com\n",
      "Requirement already satisfied: stable_baselines3 in /opt/conda/lib/python3.8/site-packages (1.4.0)\n",
      "Requirement already satisfied: torch>=1.8.1 in /opt/conda/lib/python3.8/site-packages (from stable_baselines3) (1.11.0a0+17540c5)\n",
      "Requirement already satisfied: matplotlib in /opt/conda/lib/python3.8/site-packages (from stable_baselines3) (3.5.1)\n",
      "Requirement already satisfied: gym<0.20,>=0.17 in /opt/conda/lib/python3.8/site-packages (from stable_baselines3) (0.19.0)\n",
      "Requirement already satisfied: pandas in /opt/conda/lib/python3.8/site-packages (from stable_baselines3) (1.3.5)\n",
      "Requirement already satisfied: numpy in /opt/conda/lib/python3.8/site-packages (from stable_baselines3) (1.22.2)\n",
      "Requirement already satisfied: cloudpickle in /opt/conda/lib/python3.8/site-packages (from stable_baselines3) (1.6.0)\n",
      "Requirement already satisfied: typing_extensions in /opt/conda/lib/python3.8/site-packages (from torch>=1.8.1->stable_baselines3) (4.0.1)\n",
      "Requirement already satisfied: pyparsing>=2.2.1 in /opt/conda/lib/python3.8/site-packages (from matplotlib->stable_baselines3) (3.0.7)\n",
      "Requirement already satisfied: cycler>=0.10 in /opt/conda/lib/python3.8/site-packages (from matplotlib->stable_baselines3) (0.11.0)\n",
      "Requirement already satisfied: python-dateutil>=2.7 in /opt/conda/lib/python3.8/site-packages (from matplotlib->stable_baselines3) (2.8.2)\n",
      "Requirement already satisfied: kiwisolver>=1.0.1 in /opt/conda/lib/python3.8/site-packages (from matplotlib->stable_baselines3) (1.3.2)\n",
      "Requirement already satisfied: pillow>=6.2.0 in /opt/conda/lib/python3.8/site-packages (from matplotlib->stable_baselines3) (9.0.0)\n",
      "Requirement already satisfied: packaging>=20.0 in /opt/conda/lib/python3.8/site-packages (from matplotlib->stable_baselines3) (21.3)\n",
      "Requirement already satisfied: fonttools>=4.22.0 in /opt/conda/lib/python3.8/site-packages (from matplotlib->stable_baselines3) (4.29.1)\n",
      "Requirement already satisfied: six>=1.5 in /opt/conda/lib/python3.8/site-packages (from python-dateutil>=2.7->matplotlib->stable_baselines3) (1.16.0)\n",
      "Requirement already satisfied: pytz>=2017.3 in /opt/conda/lib/python3.8/site-packages (from pandas->stable_baselines3) (2021.3)\n",
      "\u001b[33mWARNING: Running pip as the 'root' user can result in broken permissions and conflicting behaviour with the system package manager. It is recommended to use a virtual environment instead: https://pip.pypa.io/warnings/venv\u001b[0m\n",
      "Looking in indexes: https://pypi.org/simple, https://pypi.ngc.nvidia.com\n",
      "Requirement already satisfied: gym in /opt/conda/lib/python3.8/site-packages (0.19.0)\n",
      "Requirement already satisfied: cloudpickle<1.7.0,>=1.2.0 in /opt/conda/lib/python3.8/site-packages (from gym) (1.6.0)\n",
      "Requirement already satisfied: numpy>=1.18.0 in /opt/conda/lib/python3.8/site-packages (from gym) (1.22.2)\n",
      "\u001b[33mWARNING: Running pip as the 'root' user can result in broken permissions and conflicting behaviour with the system package manager. It is recommended to use a virtual environment instead: https://pip.pypa.io/warnings/venv\u001b[0m\n"
     ]
    }
   ],
   "source": [
    "!pip install stable_baselines3\n",
    "!pip install gym"
   ]
  },
  {
   "cell_type": "code",
   "execution_count": null,
   "id": "8aa4dd80",
   "metadata": {
    "gradient": {
     "editing": false,
     "execution_count": 3,
     "id": "8aa4dd80",
     "kernelId": "7ff4c2ba-b572-4533-9ab1-c81182b315fa"
    }
   },
   "outputs": [],
   "source": [
    "import numpy as np\n",
    "import cv2\n",
    "import matplotlib.pyplot as plt\n",
    "import matplotlib.ticker as ticker\n",
    "import PIL.Image as image\n",
    "\n",
    "import gym\n",
    "\n",
    "from gym import Env, spaces\n",
    "import time,os,random\n",
    "font = cv2.FONT_HERSHEY_COMPLEX_SMALL"
   ]
  },
  {
   "cell_type": "markdown",
   "id": "e0581310",
   "metadata": {
    "gradient": {
     "editing": false,
     "id": "e0581310",
     "kernelId": "7ff4c2ba-b572-4533-9ab1-c81182b315fa"
    }
   },
   "source": [
    "# The Point Class"
   ]
  },
  {
   "cell_type": "code",
   "execution_count": null,
   "id": "26aaf69a",
   "metadata": {
    "gradient": {
     "editing": false,
     "execution_count": 4,
     "id": "26aaf69a",
     "kernelId": "7ff4c2ba-b572-4533-9ab1-c81182b315fa"
    }
   },
   "outputs": [],
   "source": [
    "class Point(object):\n",
    "    def __init__(self, name, x_max, x_min, y_max, y_min):\n",
    "        self.x = 0\n",
    "        self.y = 0\n",
    "        self.x_min = x_min\n",
    "        self.x_max = x_max\n",
    "        self.y_min = y_min\n",
    "        self.y_max = y_max\n",
    "        self.name = name\n",
    "        \n",
    "    def clamp(self, n, min_n, max_n):\n",
    "        return max(min(max_n,n), min_n)\n",
    "    \n",
    "    def set_position(self, x, y):\n",
    "        self.x = self.clamp(x, self.x_min, self.x_max-self.icon_w)\n",
    "        self.y = self.clamp(y, self.y_min, self.y_max-self.icon_h)\n",
    "        \n",
    "    def get_position(self):\n",
    "        return (self.x, self.y)\n",
    "    \n",
    "    def move(self, del_x, del_y):\n",
    "        self.x += del_x\n",
    "        self.y += del_y\n",
    "        self.set_position(self.x, self.y)"
   ]
  },
  {
   "cell_type": "markdown",
   "id": "d6f88e47",
   "metadata": {
    "gradient": {
     "editing": false,
     "id": "d6f88e47",
     "kernelId": "7ff4c2ba-b572-4533-9ab1-c81182b315fa"
    }
   },
   "source": [
    "# The Elements class"
   ]
  },
  {
   "cell_type": "code",
   "execution_count": null,
   "id": "3a901fb2",
   "metadata": {
    "gradient": {
     "editing": false,
     "execution_count": 5,
     "id": "3a901fb2",
     "kernelId": "7ff4c2ba-b572-4533-9ab1-c81182b315fa"
    }
   },
   "outputs": [],
   "source": [
    "class Dino(Point):\n",
    "    def __init__(self, name, x_max, x_min, y_max, y_min):\n",
    "        super(Dino, self).__init__(name, x_max, x_min, y_max, y_min)\n",
    "        self.hopHeight = 50\n",
    "        self.airTime = 20\n",
    "        self.icon = cv2.imread(\"skhst_dino.png\") / 225.0\n",
    "        self.icon_w = 32\n",
    "        self.icon_h = 32\n",
    "        self.icon = cv2.resize(self.icon, (self.icon_h, self.icon_w))\n",
    "\n",
    "class Cactus(Point):\n",
    "    def __init__(self, name, x_max, x_min, y_max, y_min):\n",
    "        super(Cactus, self).__init__(name, x_max, x_min, y_max, y_min)\n",
    "        self.isCrossed = False\n",
    "        self.icon = cv2.imread(\"cactus.png\") / 225.0\n",
    "        self.icon_w = 32\n",
    "        self.icon_h = 32\n",
    "        self.icon = cv2.resize(self.icon, (self.icon_h, self.icon_w))\n"
   ]
  },
  {
   "cell_type": "code",
   "execution_count": null,
   "id": "16874ae7",
   "metadata": {
    "gradient": {
     "editing": false,
     "id": "16874ae7",
     "kernelId": "7ff4c2ba-b572-4533-9ab1-c81182b315fa"
    }
   },
   "outputs": [],
   "source": []
  },
  {
   "cell_type": "code",
   "execution_count": null,
   "id": "967ac0a8",
   "metadata": {
    "gradient": {
     "editing": false,
     "execution_count": 6,
     "id": "967ac0a8",
     "kernelId": "7ff4c2ba-b572-4533-9ab1-c81182b315fa"
    }
   },
   "outputs": [],
   "source": [
    "'''\n",
    "Rewarding constraints :-\n",
    " * For passing every frame : 1\n",
    " * For crossing a cactus : 10\n",
    " * For failing by hitting a cactus : -200\n",
    "'''\n",
    "\n",
    "class jurrasicLand(Env):\n",
    "    def __init__(self):\n",
    "        super(jurrasicLand, self).__init__()\n",
    "\n",
    "        self.observation_shape = (300,800,3)\n",
    "        self.observation_space = spaces.Box(low = np.zeros(self.observation_shape),\n",
    "                                           high = np.ones(self.observation_shape),\n",
    "                                           dtype = np.float16)\n",
    "        self.action_space = spaces.Discrete(2,)\n",
    "        self.canvas = np.ones(self.observation_shape)*1\n",
    "        self.elements = []\n",
    "        \n",
    "\n",
    "        self.y_min = int(self.observation_shape[0]*0.1)\n",
    "        self.x_min = 0\n",
    "        self.y_max = int(self.observation_shape[0])\n",
    "        self.x_max = self.observation_shape[1]\n",
    "\n",
    "        \n",
    "    def draw_elements_on_canvas(self):\n",
    "        self.canvas = np.ones(self.observation_shape) * 1\n",
    "        #Draw elements on canvas\n",
    "        for elm in self.elements:\n",
    "            elm_shape = elm.icon.shape\n",
    "            x,y = elm.x, elm.y\n",
    "            self.canvas[y : y+elm_shape[1],x : x+elm_shape[0]] = elm.icon\n",
    "        score_card = \"Distance covered : {} Successful Hops : {}\".format(self.ep_return, self.successful_hops)\n",
    "        self.canvas = cv2.putText(self.canvas, score_card, (10,20),\n",
    "                                 font, 0.8, (0,0,0), 1, cv2.LINE_AA)       \n",
    "           \n",
    "    def reset(self):\n",
    "        self.ep_return = 0\n",
    "        self.cactus_count = 0\n",
    "        \n",
    "        self.on_air = False\n",
    "        self.air_time = 0\n",
    "        \n",
    "        self.successful_hops = 0\n",
    "        \n",
    "        #initialise the dino     \n",
    "        dino_x = 100\n",
    "        dino_y = self.y_max # 60\n",
    "        self.dino = Dino(\"dino\", self.x_max, self.x_min, self.y_max, self.y_min)\n",
    "        self.dino.set_position(dino_x,dino_y)\n",
    "        \n",
    "        self.elements = [self.dino]\n",
    "        self.canvas = np.ones(self.observation_shape) * 1\n",
    "        self.draw_elements_on_canvas()\n",
    "        return self.canvas\n",
    "    \n",
    "    def render(self, mode= 'human'):\n",
    "        assert mode in ['human','rgb_array'], \"Invalid mode, must be either 'human' or 'rgb_array'!\"\n",
    "        if(mode=='human'):\n",
    "            cv2.imshow(\"Dino Land\",self.canvas)\n",
    "            cv2.waitKey(10)\n",
    "        elif(mode=='rgb_array'):\n",
    "            return self.canvas\n",
    "    \n",
    "    def close(self):\n",
    "        cv2.destroyAllWindows()\n",
    "        \n",
    "    def get_action_meaning(self):\n",
    "        return {\n",
    "            0 : 'Do Nothing',\n",
    "            1 : 'Jump'\n",
    "        }\n",
    "    \n",
    "    def has_collided(self, elm1, elm2):\n",
    "        x_col = False\n",
    "        y_col = False\n",
    "        \n",
    "        elm1_x, elm1_y = elm1.get_position()\n",
    "        elm2_x, elm2_y = elm2.get_position()\n",
    "        \n",
    "        if 2*abs(elm1_x - elm2_x) <= (elm1.icon_w + elm2.icon_w):\n",
    "            x_col = True\n",
    "        if 2*abs(elm1_y - elm2_y) <= (elm1.icon_h + elm2.icon_h):\n",
    "            y_col = True\n",
    "        \n",
    "        if(x_col and y_col):\n",
    "            return True\n",
    "        return False\n",
    "    \n",
    "    def has_crossed(self, elm1, elm2):\n",
    "        elm1_x,elm1_y = elm1.get_position()\n",
    "        elm2_x,elm2_y = elm2.get_position()\n",
    "        \n",
    "        if(elm1_x <= elm2_x):\n",
    "            return True\n",
    "        return False\n",
    "    \n",
    "    def are_they_collided(self, elm1, elm2):\n",
    "        elm1_x, elm1_y = elm1.get_position()\n",
    "        elm2_x, elm2_y = elm2.get_position()\n",
    "        print(elm1_x,elm2_x)\n",
    "        \n",
    "        if(elm2_x>=elm1_x and elm2_x<=elm1_x+elm1.icon_w):\n",
    "            x_col = True\n",
    "        \n",
    "    def step(self, action):\n",
    "        done = False\n",
    "        assert self.action_space.contains(action), \"Invalid Action!\"\n",
    "        \n",
    "        reward = 1\n",
    "        \n",
    "        if action == 0:\n",
    "            self.dino.move(0,0)\n",
    "        elif action == 1:\n",
    "            if(not self.on_air):\n",
    "                self.on_air = True\n",
    "                self.dino.move(0,-self.dino.hopHeight)\n",
    "            #self.dino.move(0,-5)\n",
    "            else:\n",
    "                self.dino.move(0,0)\n",
    "            \n",
    "       \n",
    "        if self.on_air:\n",
    "            if(self.air_time>=self.dino.airTime):\n",
    "                self.on_air = False\n",
    "                self.air_time = 0\n",
    "                self.dino.move(0,self.dino.hopHeight)\n",
    "            else:\n",
    "                self.air_time +=1\n",
    "                \n",
    "        \n",
    "                \n",
    "        #spawn a cactus with pbt 0.01\n",
    "        if random.random() < 0.01:\n",
    "            \n",
    "            spawned_cactus = Cactus(\"cactus_{}\".format(self.cactus_count),\n",
    "                                   self.x_max, self.x_min,\n",
    "                                   self.y_max, self.y_min)\n",
    "            self.cactus_count += 1\n",
    "            cactus_x = self.x_max\n",
    "            cactus_y = self.y_max\n",
    "            spawned_cactus.set_position(cactus_x, cactus_y)\n",
    "            self.elements.append(spawned_cactus)\n",
    "            \n",
    "        for elm in self.elements:\n",
    "            if isinstance(elm, Cactus):\n",
    "                if(elm.get_position()[0] <= self.x_min):\n",
    "                    self.elements.remove(elm)\n",
    "                else:\n",
    "                    elm.move(-5,0)\n",
    "                # Rewarding for successful hop, as if cactus' x_position is foun to be left of dino,\n",
    "                # means that dino successfully hopped without making 'done = True'\n",
    "                \n",
    "                if((not elm.isCrossed) and self.has_crossed(elm,self.dino)):\n",
    "                    self.successful_hops += 1\n",
    "                    elm.isCrossed = True\n",
    "                    reward += 10\n",
    "                    #print(\"Rewarding..\")\n",
    "                if self.has_collided(self.dino, elm):\n",
    "                    reward += -200\n",
    "#                     episodic_return += reward\n",
    "                    done = True\n",
    "                    try:\n",
    "                        self.elements.remove(self.dino)\n",
    "                    except:\n",
    "                        pass\n",
    "        self.ep_return += reward\n",
    "        self.draw_elements_on_canvas()\n",
    "        return self.canvas, reward, done,{}\n",
    "        "
   ]
  },
  {
   "cell_type": "code",
   "execution_count": null,
   "id": "f4429b25",
   "metadata": {
    "gradient": {
     "editing": false,
     "execution_count": 7,
     "id": "f4429b25",
     "kernelId": "7ff4c2ba-b572-4533-9ab1-c81182b315fa"
    }
   },
   "outputs": [
    {
     "name": "stderr",
     "output_type": "stream",
     "text": [
      "/opt/conda/lib/python3.8/site-packages/gym/logger.py:34: UserWarning: \u001b[33mWARN: Box bound precision lowered by casting to float16\u001b[0m\n",
      "  warnings.warn(colorize(\"%s: %s\" % (\"WARN\", msg % args), \"yellow\"))\n",
      "Clipping input data to the valid range for imshow with RGB data ([0..1] for floats or [0..255] for integers).\n"
     ]
    },
    {
     "data": {
      "text/plain": [
       "<matplotlib.image.AxesImage at 0x7fdfda1d99a0>"
      ]
     },
     "execution_count": 7,
     "metadata": {},
     "output_type": "execute_result"
    },
    {
     "data": {
      "image/png": "[encoded data removed]",
      "text/plain": [
       "<Figure size 432x288 with 1 Axes>"
      ]
     },
     "metadata": {
      "needs_background": "light"
     },
     "output_type": "display_data"
    }
   ],
   "source": [
    "env = jurrasicLand()\n",
    "obs = env.reset()\n",
    "plt.imshow(obs)"
   ]
  },
  {
   "cell_type": "code",
   "execution_count": null,
   "id": "96e6955e",
   "metadata": {
    "gradient": {
     "editing": false,
     "id": "96e6955e",
     "kernelId": "7ff4c2ba-b572-4533-9ab1-c81182b315fa"
    },
    "scrolled": true
   },
   "outputs": [],
   "source": [
    "# episodes = 5\n",
    "# env = jurrasicLand()\n",
    "# scores_l = []\n",
    "# episodes_l = []\n",
    "# hops_l = []\n",
    "# for episode in range(1,episodes+1):\n",
    "#     obs = env.reset()\n",
    "#     done = False\n",
    "#     score = 0\n",
    "    \n",
    "#     while not done:\n",
    "#         env.render('human')\n",
    "#         action = env.action_space.sample()\n",
    "#         obs,reward,done,info = env.step(action)\n",
    "#         score += reward\n",
    "#     print('Episode:{} Score:{} Hops:{}'.format(episode,score,hops))\n",
    "#     episodes_l.append(episode)\n",
    "#     scores_l.append(score)\n",
    "#     hops_l.append(hops)\n",
    "# env.close()\n"
   ]
  },
  {
   "cell_type": "code",
   "execution_count": null,
   "id": "4d1d8ce6",
   "metadata": {
    "gradient": {
     "editing": false,
     "execution_count": 8,
     "id": "4d1d8ce6",
     "kernelId": "7ff4c2ba-b572-4533-9ab1-c81182b315fa"
    }
   },
   "outputs": [
    {
     "name": "stdout",
     "output_type": "stream",
     "text": [
      "Using cuda device\n",
      "Wrapping the env with a `Monitor` wrapper\n",
      "Wrapping the env in a DummyVecEnv.\n"
     ]
    }
   ],
   "source": [
    "from stable_baselines3 import PPO\n",
    "from stable_baselines3.common.env_util import make_vec_env\n",
    "\n",
    "model = PPO(\"MlpPolicy\",env,verbose=1)"
   ]
  },
  {
   "cell_type": "code",
   "execution_count": null,
   "id": "8236727f",
   "metadata": {
    "gradient": {
     "editing": false,
     "execution_count": 11,
     "id": "8236727f",
     "kernelId": "7ff4c2ba-b572-4533-9ab1-c81182b315fa"
    }
   },
   "outputs": [
    {
     "name": "stdout",
     "output_type": "stream",
     "text": [
      "---------------------------------\n",
      "| rollout/           |          |\n",
      "|    ep_len_mean     | 288      |\n",
      "|    ep_rew_mean     | 96.3     |\n",
      "| time/              |          |\n",
      "|    fps             | 64       |\n",
      "|    iterations      | 1        |\n",
      "|    time_elapsed    | 31       |\n",
      "|    total_timesteps | 2048     |\n",
      "---------------------------------\n"
     ]
    },
    {
     "data": {
      "text/plain": [
       "<stable_baselines3.ppo.ppo.PPO at 0x7fdfda13f6a0>"
      ]
     },
     "execution_count": 11,
     "metadata": {},
     "output_type": "execute_result"
    }
   ],
   "source": [
    "model.learn(total_timesteps=4000)"
   ]
  },
  {
   "cell_type": "code",
   "execution_count": null,
   "id": "0faba5d7-f670-4b06-8126-f2f409132794",
   "metadata": {
    "gradient": {
     "editing": false,
     "execution_count": 12,
     "id": "0faba5d7-f670-4b06-8126-f2f409132794",
     "kernelId": "7ff4c2ba-b572-4533-9ab1-c81182b315fa",
     "source_hidden": false
    }
   },
   "outputs": [],
   "source": [
    "model.save('model_4000')"
   ]
  },
  {
   "cell_type": "code",
   "execution_count": null,
   "id": "ca14bac0-906d-4b66-b607-05be33ae3634",
   "metadata": {
    "gradient": {
     "editing": true,
     "execution_count": 13,
     "id": "ca14bac0-906d-4b66-b607-05be33ae3634",
     "kernelId": "7ff4c2ba-b572-4533-9ab1-c81182b315fa",
     "source_hidden": false
    }
   },
   "outputs": [
    {
     "name": "stderr",
     "output_type": "stream",
     "text": [
      "/opt/conda/lib/python3.8/site-packages/stable_baselines3/common/evaluation.py:65: UserWarning: Evaluation environment is not wrapped with a ``Monitor`` wrapper. This may result in reporting modified episode lengths and rewards, if other wrappers happen to modify these. Consider wrapping environment first with ``Monitor`` wrapper.\n",
      "  warnings.warn(\n"
     ]
    }
   ],
   "source": [
    "from stable_baselines3.common.evaluation import evaluate_policy\n",
    "avg_mean_ppo , std_dev_ppo = evaluate_policy(model,env,n_eval_episodes=10)"
   ]
  },
  {
   "cell_type": "code",
   "execution_count": null,
   "id": "c3149266-ed8a-4b07-b76d-749718bad306",
   "metadata": {
    "gradient": {
     "editing": false,
     "execution_count": 15,
     "id": "c3149266-ed8a-4b07-b76d-749718bad306",
     "kernelId": "7ff4c2ba-b572-4533-9ab1-c81182b315fa",
     "source_hidden": false
    }
   },
   "outputs": [
    {
     "name": "stdout",
     "output_type": "stream",
     "text": [
      "Average mean : 64.2\n",
      "Average Std : 130.0375330433487\n"
     ]
    }
   ],
   "source": [
    "print('Average mean : {}\\nAverage Std : {}'.format(avg_mean_ppo,std_dev_ppo))"
   ]
  },
  {
   "cell_type": "code",
   "execution_count": null,
   "id": "a60f0ac5-34f1-46dd-820d-05139a96a188",
   "metadata": {
    "gradient": {
     "editing": false,
     "execution_count": 16,
     "id": "a60f0ac5-34f1-46dd-820d-05139a96a188",
     "kernelId": "7ff4c2ba-b572-4533-9ab1-c81182b315fa",
     "source_hidden": false
    }
   },
   "outputs": [
    {
     "name": "stdout",
     "output_type": "stream",
     "text": [
      "Episode:1 Score:-49\n",
      "Episode:2 Score:177\n",
      "Episode:3 Score:72\n",
      "Episode:4 Score:-43\n",
      "Episode:5 Score:-207\n",
      "Episode:6 Score:30\n",
      "Episode:7 Score:7\n",
      "Episode:8 Score:166\n",
      "Episode:9 Score:89\n",
      "Episode:10 Score:-70\n",
      "Episode:11 Score:44\n",
      "Episode:12 Score:305\n",
      "Episode:13 Score:84\n",
      "Episode:14 Score:490\n",
      "Episode:15 Score:669\n",
      "Episode:16 Score:-68\n",
      "Episode:17 Score:26\n",
      "Episode:18 Score:281\n",
      "Episode:19 Score:17\n",
      "Episode:20 Score:35\n",
      "Episode:21 Score:-37\n",
      "Episode:22 Score:5\n",
      "Episode:23 Score:214\n",
      "Episode:24 Score:-68\n",
      "Episode:25 Score:250\n",
      "Episode:26 Score:-29\n",
      "Episode:27 Score:473\n",
      "Episode:28 Score:53\n",
      "Episode:29 Score:224\n",
      "Episode:30 Score:59\n",
      "Episode:31 Score:19\n",
      "Episode:32 Score:51\n",
      "Episode:33 Score:105\n",
      "Episode:34 Score:-22\n",
      "Episode:35 Score:154\n",
      "Episode:36 Score:114\n",
      "Episode:37 Score:-17\n",
      "Episode:38 Score:-39\n",
      "Episode:39 Score:196\n",
      "Episode:40 Score:55\n",
      "Episode:41 Score:143\n",
      "Episode:42 Score:24\n",
      "Episode:43 Score:18\n",
      "Episode:44 Score:138\n",
      "Episode:45 Score:18\n",
      "Episode:46 Score:378\n",
      "Episode:47 Score:71\n",
      "Episode:48 Score:0\n",
      "Episode:49 Score:137\n",
      "Episode:50 Score:-69\n",
      "Episode:51 Score:251\n",
      "Episode:52 Score:245\n",
      "Episode:53 Score:41\n",
      "Episode:54 Score:45\n",
      "Episode:55 Score:807\n",
      "Episode:56 Score:1\n",
      "Episode:57 Score:67\n",
      "Episode:58 Score:191\n",
      "Episode:59 Score:250\n",
      "Episode:60 Score:119\n",
      "Episode:61 Score:311\n",
      "Episode:62 Score:53\n",
      "Episode:63 Score:67\n",
      "Episode:64 Score:95\n",
      "Episode:65 Score:-51\n",
      "Episode:66 Score:-44\n",
      "Episode:67 Score:-49\n",
      "Episode:68 Score:38\n",
      "Episode:69 Score:112\n",
      "Episode:70 Score:635\n",
      "Episode:71 Score:97\n",
      "Episode:72 Score:44\n",
      "Episode:73 Score:353\n",
      "Episode:74 Score:-37\n",
      "Episode:75 Score:80\n",
      "Episode:76 Score:-21\n",
      "Episode:77 Score:19\n",
      "Episode:78 Score:12\n",
      "Episode:79 Score:-5\n",
      "Episode:80 Score:-38\n",
      "Episode:81 Score:19\n",
      "Episode:82 Score:113\n",
      "Episode:83 Score:447\n",
      "Episode:84 Score:182\n",
      "Episode:85 Score:-18\n",
      "Episode:86 Score:112\n",
      "Episode:87 Score:211\n",
      "Episode:88 Score:340\n",
      "Episode:89 Score:79\n",
      "Episode:90 Score:178\n",
      "Episode:91 Score:-5\n",
      "Episode:92 Score:32\n",
      "Episode:93 Score:47\n",
      "Episode:94 Score:-35\n",
      "Episode:95 Score:184\n",
      "Episode:96 Score:176\n",
      "Episode:97 Score:6\n",
      "Episode:98 Score:-21\n",
      "Episode:99 Score:35\n",
      "Episode:100 Score:25\n",
      "Episode:101 Score:256\n",
      "Episode:102 Score:3\n",
      "Episode:103 Score:322\n",
      "Episode:104 Score:-17\n",
      "Episode:105 Score:-13\n",
      "Episode:106 Score:58\n",
      "Episode:107 Score:-5\n",
      "Episode:108 Score:-11\n",
      "Episode:109 Score:165\n",
      "Episode:110 Score:188\n",
      "Episode:111 Score:101\n",
      "Episode:112 Score:15\n",
      "Episode:113 Score:-45\n",
      "Episode:114 Score:-18\n",
      "Episode:115 Score:-27\n",
      "Episode:116 Score:244\n",
      "Episode:117 Score:-62\n",
      "Episode:118 Score:181\n",
      "Episode:119 Score:-10\n",
      "Episode:120 Score:-66\n",
      "Episode:121 Score:61\n",
      "Episode:122 Score:-5\n",
      "Episode:123 Score:-5\n",
      "Episode:124 Score:155\n",
      "Episode:125 Score:-52\n",
      "Episode:126 Score:-2\n",
      "Episode:127 Score:91\n",
      "Episode:128 Score:27\n",
      "Episode:129 Score:62\n",
      "Episode:130 Score:1\n",
      "Episode:131 Score:186\n",
      "Episode:132 Score:266\n",
      "Episode:133 Score:-17\n",
      "Episode:134 Score:279\n",
      "Episode:135 Score:198\n",
      "Episode:136 Score:126\n",
      "Episode:137 Score:-15\n",
      "Episode:138 Score:47\n",
      "Episode:139 Score:-59\n",
      "Episode:140 Score:-70\n",
      "Episode:141 Score:-12\n",
      "Episode:142 Score:-4\n",
      "Episode:143 Score:55\n",
      "Episode:144 Score:-19\n",
      "Episode:145 Score:77\n",
      "Episode:146 Score:123\n",
      "Episode:147 Score:57\n",
      "Episode:148 Score:-36\n",
      "Episode:149 Score:88\n",
      "Episode:150 Score:161\n",
      "Episode:151 Score:626\n",
      "Episode:152 Score:104\n",
      "Episode:153 Score:88\n",
      "Episode:154 Score:127\n",
      "Episode:155 Score:4\n",
      "Episode:156 Score:34\n",
      "Episode:157 Score:224\n",
      "Episode:158 Score:123\n",
      "Episode:159 Score:17\n",
      "Episode:160 Score:80\n",
      "Episode:161 Score:-52\n",
      "Episode:162 Score:391\n",
      "Episode:163 Score:-31\n",
      "Episode:164 Score:-18\n",
      "Episode:165 Score:-20\n",
      "Episode:166 Score:-34\n",
      "Episode:167 Score:51\n",
      "Episode:168 Score:51\n",
      "Episode:169 Score:51\n",
      "Episode:170 Score:-35\n",
      "Episode:171 Score:224\n",
      "Episode:172 Score:24\n",
      "Episode:173 Score:18\n",
      "Episode:174 Score:-32\n",
      "Episode:175 Score:38\n",
      "Episode:176 Score:431\n",
      "Episode:177 Score:60\n",
      "Episode:178 Score:-52\n",
      "Episode:179 Score:-23\n",
      "Episode:180 Score:408\n",
      "Episode:181 Score:63\n",
      "Episode:182 Score:-53\n",
      "Episode:183 Score:192\n",
      "Episode:184 Score:-31\n",
      "Episode:185 Score:-70\n",
      "Episode:186 Score:69\n",
      "Episode:187 Score:36\n",
      "Episode:188 Score:86\n",
      "Episode:189 Score:-32\n",
      "Episode:190 Score:131\n",
      "Episode:191 Score:115\n",
      "Episode:192 Score:-14\n",
      "Episode:193 Score:14\n",
      "Episode:194 Score:-30\n",
      "Episode:195 Score:-50\n",
      "Episode:196 Score:47\n",
      "Episode:197 Score:132\n",
      "Episode:198 Score:48\n",
      "Episode:199 Score:-48\n",
      "Episode:200 Score:290\n"
     ]
    }
   ],
   "source": [
    "episodes = 200\n",
    "scores_l = []\n",
    "episodes_l = []\n",
    "for episode in range(1,episodes+1):\n",
    "    obs = env.reset()\n",
    "    done = False\n",
    "    score = 0\n",
    "    \n",
    "    while not done:\n",
    "        # env.render('rgb_array')\n",
    "        action, _states = model.predict(obs)\n",
    "        obs,reward,done,info = env.step(action)\n",
    "        score += reward\n",
    "    print('Episode:{} Score:{}'.format(episode,score))\n",
    "    episodes_l.append(episode)\n",
    "    scores_l.append(score)\n",
    "# env.close()\n"
   ]
  },
  {
   "cell_type": "code",
   "execution_count": null,
   "id": "00de4359-96c1-49e4-9e49-8fddd59414e5",
   "metadata": {
    "gradient": {
     "editing": false,
     "execution_count": 18,
     "id": "00de4359-96c1-49e4-9e49-8fddd59414e5",
     "kernelId": "7ff4c2ba-b572-4533-9ab1-c81182b315fa",
     "source_hidden": false
    }
   },
   "outputs": [
    {
     "name": "stdout",
     "output_type": "stream",
     "text": [
      "Using cuda device\n",
      "Wrapping the env with a `Monitor` wrapper\n",
      "Wrapping the env in a DummyVecEnv.\n",
      "------------------------------------\n",
      "| rollout/              |          |\n",
      "|    ep_len_mean        | 180      |\n",
      "|    ep_rew_mean        | -20.5    |\n",
      "| time/                 |          |\n",
      "|    fps                | 31       |\n",
      "|    iterations         | 100      |\n",
      "|    time_elapsed       | 15       |\n",
      "|    total_timesteps    | 500      |\n",
      "| train/                |          |\n",
      "|    entropy_loss       | -0.531   |\n",
      "|    explained_variance | 0        |\n",
      "|    learning_rate      | 0.0007   |\n",
      "|    n_updates          | 99       |\n",
      "|    policy_loss        | 1.48     |\n",
      "|    value_loss         | 7.68     |\n",
      "------------------------------------\n",
      "-------------------------------------\n",
      "| rollout/              |           |\n",
      "|    ep_len_mean        | 179       |\n",
      "|    ep_rew_mean        | -15       |\n",
      "| time/                 |           |\n",
      "|    fps                | 31        |\n",
      "|    iterations         | 200       |\n",
      "|    time_elapsed       | 31        |\n",
      "|    total_timesteps    | 1000      |\n",
      "| train/                |           |\n",
      "|    entropy_loss       | -0.634    |\n",
      "|    explained_variance | -1.19e-07 |\n",
      "|    learning_rate      | 0.0007    |\n",
      "|    n_updates          | 199       |\n",
      "|    policy_loss        | 1.28      |\n",
      "|    value_loss         | 6.81      |\n",
      "-------------------------------------\n",
      "------------------------------------\n",
      "| rollout/              |          |\n",
      "|    ep_len_mean        | 201      |\n",
      "|    ep_rew_mean        | 8.43     |\n",
      "| time/                 |          |\n",
      "|    fps                | 31       |\n",
      "|    iterations         | 300      |\n",
      "|    time_elapsed       | 47       |\n",
      "|    total_timesteps    | 1500     |\n",
      "| train/                |          |\n",
      "|    entropy_loss       | -0.618   |\n",
      "|    explained_variance | 0        |\n",
      "|    learning_rate      | 0.0007   |\n",
      "|    n_updates          | 299      |\n",
      "|    policy_loss        | 1.54     |\n",
      "|    value_loss         | 6.05     |\n",
      "------------------------------------\n",
      "------------------------------------\n",
      "| rollout/              |          |\n",
      "|    ep_len_mean        | 195      |\n",
      "|    ep_rew_mean        | 1.5      |\n",
      "| time/                 |          |\n",
      "|    fps                | 31       |\n",
      "|    iterations         | 400      |\n",
      "|    time_elapsed       | 63       |\n",
      "|    total_timesteps    | 2000     |\n",
      "| train/                |          |\n",
      "|    entropy_loss       | -0.366   |\n",
      "|    explained_variance | 0        |\n",
      "|    learning_rate      | 0.0007   |\n",
      "|    n_updates          | 399      |\n",
      "|    policy_loss        | 1.65     |\n",
      "|    value_loss         | 5.34     |\n",
      "------------------------------------\n",
      "------------------------------------\n",
      "| rollout/              |          |\n",
      "|    ep_len_mean        | 228      |\n",
      "|    ep_rew_mean        | 39       |\n",
      "| time/                 |          |\n",
      "|    fps                | 31       |\n",
      "|    iterations         | 500      |\n",
      "|    time_elapsed       | 79       |\n",
      "|    total_timesteps    | 2500     |\n",
      "| train/                |          |\n",
      "|    entropy_loss       | -0.456   |\n",
      "|    explained_variance | 0        |\n",
      "|    learning_rate      | 0.0007   |\n",
      "|    n_updates          | 499      |\n",
      "|    policy_loss        | 0.992    |\n",
      "|    value_loss         | 4.7      |\n",
      "------------------------------------\n",
      "------------------------------------\n",
      "| rollout/              |          |\n",
      "|    ep_len_mean        | 242      |\n",
      "|    ep_rew_mean        | 52.4     |\n",
      "| time/                 |          |\n",
      "|    fps                | 31       |\n",
      "|    iterations         | 600      |\n",
      "|    time_elapsed       | 94       |\n",
      "|    total_timesteps    | 3000     |\n",
      "| train/                |          |\n",
      "|    entropy_loss       | -0.403   |\n",
      "|    explained_variance | 0        |\n",
      "|    learning_rate      | 0.0007   |\n",
      "|    n_updates          | 599      |\n",
      "|    policy_loss        | 1.17     |\n",
      "|    value_loss         | 4.1      |\n",
      "------------------------------------\n",
      "------------------------------------\n",
      "| rollout/              |          |\n",
      "|    ep_len_mean        | 245      |\n",
      "|    ep_rew_mean        | 54.7     |\n",
      "| time/                 |          |\n",
      "|    fps                | 31       |\n",
      "|    iterations         | 700      |\n",
      "|    time_elapsed       | 110      |\n",
      "|    total_timesteps    | 3500     |\n",
      "| train/                |          |\n",
      "|    entropy_loss       | -0.347   |\n",
      "|    explained_variance | 0        |\n",
      "|    learning_rate      | 0.0007   |\n",
      "|    n_updates          | 699      |\n",
      "|    policy_loss        | 0.44     |\n",
      "|    value_loss         | 3.54     |\n",
      "------------------------------------\n",
      "------------------------------------\n",
      "| rollout/              |          |\n",
      "|    ep_len_mean        | 241      |\n",
      "|    ep_rew_mean        | 50.1     |\n",
      "| time/                 |          |\n",
      "|    fps                | 31       |\n",
      "|    iterations         | 800      |\n",
      "|    time_elapsed       | 126      |\n",
      "|    total_timesteps    | 4000     |\n",
      "| train/                |          |\n",
      "|    entropy_loss       | -0.266   |\n",
      "|    explained_variance | 0        |\n",
      "|    learning_rate      | 0.0007   |\n",
      "|    n_updates          | 799      |\n",
      "|    policy_loss        | 0.122    |\n",
      "|    value_loss         | 3.02     |\n",
      "------------------------------------\n"
     ]
    },
    {
     "data": {
      "text/plain": [
       "<stable_baselines3.a2c.a2c.A2C at 0x7fdf2039be20>"
      ]
     },
     "execution_count": 18,
     "metadata": {},
     "output_type": "execute_result"
    }
   ],
   "source": [
    "from stable_baselines3 import A2C\n",
    "from stable_baselines3.common.env_util import make_vec_env\n",
    "\n",
    "model_a2c = A2C(\"MlpPolicy\",env,verbose=1)\n",
    "model_a2c.learn(total_timesteps=4000)"
   ]
  },
  {
   "cell_type": "code",
   "execution_count": null,
   "id": "6d005fbf-add2-4b6c-8a5c-52ba82766d3c",
   "metadata": {
    "gradient": {
     "editing": false,
     "execution_count": 21,
     "id": "6d005fbf-add2-4b6c-8a5c-52ba82766d3c",
     "kernelId": "7ff4c2ba-b572-4533-9ab1-c81182b315fa",
     "source_hidden": false
    }
   },
   "outputs": [],
   "source": [
    "model_a2c.save('a2c_4000')"
   ]
  },
  {
   "cell_type": "code",
   "execution_count": null,
   "id": "1917beb5-121d-49d5-9e37-d55f5b2535fc",
   "metadata": {
    "gradient": {
     "editing": false,
     "execution_count": 19,
     "id": "1917beb5-121d-49d5-9e37-d55f5b2535fc",
     "kernelId": "7ff4c2ba-b572-4533-9ab1-c81182b315fa",
     "source_hidden": false
    }
   },
   "outputs": [
    {
     "name": "stdout",
     "output_type": "stream",
     "text": [
      "Episode:1 Score:62\n",
      "Episode:2 Score:314\n",
      "Episode:3 Score:202\n",
      "Episode:4 Score:95\n",
      "Episode:5 Score:200\n",
      "Episode:6 Score:147\n",
      "Episode:7 Score:103\n",
      "Episode:8 Score:63\n",
      "Episode:9 Score:199\n",
      "Episode:10 Score:42\n",
      "Episode:11 Score:-9\n",
      "Episode:12 Score:377\n",
      "Episode:13 Score:474\n",
      "Episode:14 Score:85\n",
      "Episode:15 Score:-31\n",
      "Episode:16 Score:20\n",
      "Episode:17 Score:-22\n",
      "Episode:18 Score:137\n",
      "Episode:19 Score:911\n",
      "Episode:20 Score:167\n",
      "Episode:21 Score:42\n",
      "Episode:22 Score:21\n",
      "Episode:23 Score:-9\n",
      "Episode:24 Score:22\n",
      "Episode:25 Score:-52\n",
      "Episode:26 Score:136\n",
      "Episode:27 Score:73\n",
      "Episode:28 Score:20\n",
      "Episode:29 Score:240\n",
      "Episode:30 Score:-20\n",
      "Episode:31 Score:177\n",
      "Episode:32 Score:-42\n",
      "Episode:33 Score:11\n",
      "Episode:34 Score:-42\n",
      "Episode:35 Score:188\n",
      "Episode:36 Score:51\n",
      "Episode:37 Score:1\n",
      "Episode:38 Score:30\n",
      "Episode:39 Score:272\n",
      "Episode:40 Score:308\n",
      "Episode:41 Score:97\n",
      "Episode:42 Score:10\n",
      "Episode:43 Score:400\n",
      "Episode:44 Score:-43\n",
      "Episode:45 Score:380\n",
      "Episode:46 Score:-22\n",
      "Episode:47 Score:-9\n",
      "Episode:48 Score:222\n",
      "Episode:49 Score:107\n",
      "Episode:50 Score:-53\n",
      "Episode:51 Score:74\n",
      "Episode:52 Score:335\n",
      "Episode:53 Score:263\n",
      "Episode:54 Score:11\n",
      "Episode:55 Score:52\n",
      "Episode:56 Score:-22\n",
      "Episode:57 Score:232\n",
      "Episode:58 Score:198\n",
      "Episode:59 Score:-30\n",
      "Episode:60 Score:-10\n",
      "Episode:61 Score:210\n",
      "Episode:62 Score:83\n",
      "Episode:63 Score:-42\n",
      "Episode:64 Score:85\n",
      "Episode:65 Score:167\n",
      "Episode:66 Score:21\n",
      "Episode:67 Score:41\n",
      "Episode:68 Score:368\n",
      "Episode:69 Score:241\n",
      "Episode:70 Score:241\n",
      "Episode:71 Score:1051\n",
      "Episode:72 Score:105\n",
      "Episode:73 Score:126\n",
      "Episode:74 Score:21\n",
      "Episode:75 Score:-2\n",
      "Episode:76 Score:20\n",
      "Episode:77 Score:-11\n",
      "Episode:78 Score:230\n",
      "Episode:79 Score:231\n",
      "Episode:80 Score:769\n",
      "Episode:81 Score:9\n",
      "Episode:82 Score:19\n",
      "Episode:83 Score:580\n",
      "Episode:84 Score:148\n",
      "Episode:85 Score:439\n",
      "Episode:86 Score:357\n",
      "Episode:87 Score:12\n",
      "Episode:88 Score:-22\n",
      "Episode:89 Score:202\n",
      "Episode:90 Score:159\n",
      "Episode:91 Score:555\n",
      "Episode:92 Score:31\n",
      "Episode:93 Score:128\n",
      "Episode:94 Score:20\n",
      "Episode:95 Score:118\n",
      "Episode:96 Score:-11\n",
      "Episode:97 Score:137\n",
      "Episode:98 Score:313\n",
      "Episode:99 Score:305\n",
      "Episode:100 Score:177\n",
      "Episode:101 Score:534\n",
      "Episode:102 Score:-51\n",
      "Episode:103 Score:189\n",
      "Episode:104 Score:62\n",
      "Episode:105 Score:-21\n",
      "Episode:106 Score:-22\n",
      "Episode:107 Score:9\n",
      "Episode:108 Score:178\n",
      "Episode:109 Score:47\n",
      "Episode:110 Score:62\n",
      "Episode:111 Score:-12\n",
      "Episode:112 Score:-22\n",
      "Episode:113 Score:-11\n",
      "Episode:114 Score:147\n",
      "Episode:115 Score:751\n",
      "Episode:116 Score:-30\n",
      "Episode:117 Score:114\n",
      "Episode:118 Score:75\n",
      "Episode:119 Score:576\n",
      "Episode:120 Score:-53\n",
      "Episode:121 Score:32\n",
      "Episode:122 Score:20\n",
      "Episode:123 Score:253\n",
      "Episode:124 Score:170\n",
      "Episode:125 Score:378\n",
      "Episode:126 Score:83\n",
      "Episode:127 Score:-22\n",
      "Episode:128 Score:-42\n",
      "Episode:129 Score:-52\n",
      "Episode:130 Score:630\n",
      "Episode:131 Score:86\n",
      "Episode:132 Score:318\n",
      "Episode:133 Score:412\n",
      "Episode:134 Score:52\n",
      "Episode:135 Score:-22\n",
      "Episode:136 Score:72\n",
      "Episode:137 Score:243\n",
      "Episode:138 Score:391\n",
      "Episode:139 Score:10\n",
      "Episode:140 Score:-21\n",
      "Episode:141 Score:232\n",
      "Episode:142 Score:-43\n",
      "Episode:143 Score:106\n",
      "Episode:144 Score:336\n",
      "Episode:145 Score:-31\n",
      "Episode:146 Score:21\n",
      "Episode:147 Score:-22\n",
      "Episode:148 Score:188\n",
      "Episode:149 Score:41\n",
      "Episode:150 Score:83\n",
      "Episode:151 Score:85\n",
      "Episode:152 Score:327\n",
      "Episode:153 Score:9\n",
      "Episode:154 Score:-32\n",
      "Episode:155 Score:303\n",
      "Episode:156 Score:-43\n",
      "Episode:157 Score:-32\n",
      "Episode:158 Score:42\n",
      "Episode:159 Score:41\n",
      "Episode:160 Score:-9\n",
      "Episode:161 Score:106\n",
      "Episode:162 Score:-1\n",
      "Episode:163 Score:285\n",
      "Episode:164 Score:-1\n",
      "Episode:165 Score:-1\n",
      "Episode:166 Score:-32\n",
      "Episode:167 Score:21\n",
      "Episode:168 Score:0\n",
      "Episode:169 Score:-22\n",
      "Episode:170 Score:241\n",
      "Episode:171 Score:-43\n",
      "Episode:172 Score:21\n",
      "Episode:173 Score:358\n",
      "Episode:174 Score:1\n",
      "Episode:175 Score:51\n",
      "Episode:176 Score:-22\n",
      "Episode:177 Score:-43\n",
      "Episode:178 Score:179\n",
      "Episode:179 Score:-22\n",
      "Episode:180 Score:-32\n",
      "Episode:181 Score:62\n",
      "Episode:182 Score:191\n",
      "Episode:183 Score:-31\n",
      "Episode:184 Score:211\n",
      "Episode:185 Score:126\n",
      "Episode:186 Score:156\n",
      "Episode:187 Score:30\n",
      "Episode:188 Score:21\n",
      "Episode:189 Score:187\n",
      "Episode:190 Score:-32\n",
      "Episode:191 Score:107\n",
      "Episode:192 Score:148\n",
      "Episode:193 Score:73\n",
      "Episode:194 Score:31\n",
      "Episode:195 Score:135\n",
      "Episode:196 Score:177\n",
      "Episode:197 Score:106\n",
      "Episode:198 Score:-32\n",
      "Episode:199 Score:-1\n",
      "Episode:200 Score:-32\n"
     ]
    }
   ],
   "source": [
    "episodes = 200\n",
    "a2c_scores_l = []\n",
    "a2c_episodes_l = []\n",
    "for episode in range(1,episodes+1):\n",
    "    obs = env.reset()\n",
    "    done = False\n",
    "    score = 0\n",
    "    \n",
    "    while not done:\n",
    "        # env.render('rgb_array')\n",
    "        action, _states = model_a2c.predict(obs)\n",
    "        obs,reward,done,info = env.step(action)\n",
    "        score += reward\n",
    "    print('Episode:{} Score:{}'.format(episode,score))\n",
    "    a2c_episodes_l.append(episode)\n",
    "    a2c_scores_l.append(score)\n",
    "# env.close()"
   ]
  },
  {
   "cell_type": "code",
   "execution_count": null,
   "id": "bceb715b-2a64-41f1-a95d-f6f0399d4c72",
   "metadata": {
    "gradient": {
     "editing": false,
     "execution_count": 20,
     "id": "bceb715b-2a64-41f1-a95d-f6f0399d4c72",
     "kernelId": "7ff4c2ba-b572-4533-9ab1-c81182b315fa",
     "source_hidden": false
    }
   },
   "outputs": [
    {
     "name": "stdout",
     "output_type": "stream",
     "text": [
      "Using cuda device\n",
      "Wrapping the env with a `Monitor` wrapper\n",
      "Wrapping the env in a DummyVecEnv.\n"
     ]
    },
    {
     "name": "stderr",
     "output_type": "stream",
     "text": [
      "/opt/conda/lib/python3.8/site-packages/stable_baselines3/common/buffers.py:220: UserWarning: This system does not have apparently enough memory to store the complete replay buffer 2880.02GB > 22.19GB\n",
      "  warnings.warn(\n"
     ]
    },
    {
     "name": "stdout",
     "output_type": "stream",
     "text": [
      "----------------------------------\n",
      "| rollout/            |          |\n",
      "|    ep_len_mean      | 304      |\n",
      "|    ep_rew_mean      | 114      |\n",
      "|    exploration_rate | 0.05     |\n",
      "| time/               |          |\n",
      "|    episodes         | 4        |\n",
      "|    fps              | 106      |\n",
      "|    time_elapsed     | 11       |\n",
      "|    total_timesteps  | 1216     |\n",
      "----------------------------------\n",
      "----------------------------------\n",
      "| rollout/            |          |\n",
      "|    ep_len_mean      | 251      |\n",
      "|    ep_rew_mean      | 60.1     |\n",
      "|    exploration_rate | 0.05     |\n",
      "| time/               |          |\n",
      "|    episodes         | 8        |\n",
      "|    fps              | 107      |\n",
      "|    time_elapsed     | 18       |\n",
      "|    total_timesteps  | 2011     |\n",
      "----------------------------------\n",
      "----------------------------------\n",
      "| rollout/            |          |\n",
      "|    ep_len_mean      | 250      |\n",
      "|    ep_rew_mean      | 58       |\n",
      "|    exploration_rate | 0.05     |\n",
      "| time/               |          |\n",
      "|    episodes         | 12       |\n",
      "|    fps              | 108      |\n",
      "|    time_elapsed     | 27       |\n",
      "|    total_timesteps  | 2996     |\n",
      "----------------------------------\n"
     ]
    }
   ],
   "source": [
    "from stable_baselines3 import DQN\n",
    "from stable_baselines3.common.env_util import make_vec_env\n",
    "\n",
    "model_dqn = DQN(\"MlpPolicy\",env,verbose=1)\n",
    "model_dqn.learn(total_timesteps=4000)\n",
    "model_dqn.save('dqn_4000')"
   ]
  },
  {
   "cell_type": "code",
   "execution_count": 1,
   "id": "35879cab-96e0-4fbb-833a-191d1a5fb073",
   "metadata": {
    "gradient": {
     "editing": false,
     "execution_count": 22,
     "id": "35879cab-96e0-4fbb-833a-191d1a5fb073",
     "kernelId": "7ff4c2ba-b572-4533-9ab1-c81182b315fa",
     "source_hidden": false
    }
   },
   "outputs": [
    {
     "ename": "NameError",
     "evalue": "name 'env' is not defined",
     "output_type": "error",
     "traceback": [
      "\u001b[1;31m---------------------------------------------------------------------------\u001b[0m",
      "\u001b[1;31mNameError\u001b[0m                                 Traceback (most recent call last)",
      "\u001b[1;32m<ipython-input-1-1d625f7b0f0c>\u001b[0m in \u001b[0;36m<module>\u001b[1;34m\u001b[0m\n\u001b[0;32m      3\u001b[0m \u001b[0mdqn_episodes_l\u001b[0m \u001b[1;33m=\u001b[0m \u001b[1;33m[\u001b[0m\u001b[1;33m]\u001b[0m\u001b[1;33m\u001b[0m\u001b[1;33m\u001b[0m\u001b[0m\n\u001b[0;32m      4\u001b[0m \u001b[1;32mfor\u001b[0m \u001b[0mepisode\u001b[0m \u001b[1;32min\u001b[0m \u001b[0mrange\u001b[0m\u001b[1;33m(\u001b[0m\u001b[1;36m1\u001b[0m\u001b[1;33m,\u001b[0m\u001b[0mepisodes\u001b[0m\u001b[1;33m+\u001b[0m\u001b[1;36m1\u001b[0m\u001b[1;33m)\u001b[0m\u001b[1;33m:\u001b[0m\u001b[1;33m\u001b[0m\u001b[1;33m\u001b[0m\u001b[0m\n\u001b[1;32m----> 5\u001b[1;33m     \u001b[0mobs\u001b[0m \u001b[1;33m=\u001b[0m \u001b[0menv\u001b[0m\u001b[1;33m.\u001b[0m\u001b[0mreset\u001b[0m\u001b[1;33m(\u001b[0m\u001b[1;33m)\u001b[0m\u001b[1;33m\u001b[0m\u001b[1;33m\u001b[0m\u001b[0m\n\u001b[0m\u001b[0;32m      6\u001b[0m     \u001b[0mdone\u001b[0m \u001b[1;33m=\u001b[0m \u001b[1;32mFalse\u001b[0m\u001b[1;33m\u001b[0m\u001b[1;33m\u001b[0m\u001b[0m\n\u001b[0;32m      7\u001b[0m     \u001b[0mscore\u001b[0m \u001b[1;33m=\u001b[0m \u001b[1;36m0\u001b[0m\u001b[1;33m\u001b[0m\u001b[1;33m\u001b[0m\u001b[0m\n",
      "\u001b[1;31mNameError\u001b[0m: name 'env' is not defined"
     ]
    }
   ],
   "source": [
    "episodes = 200\n",
    "dqn_scores_l = []\n",
    "dqn_episodes_l = []\n",
    "for episode in range(1,episodes+1):\n",
    "    obs = env.reset()\n",
    "    done = False\n",
    "    score = 0\n",
    "    \n",
    "    while not done:\n",
    "        # env.render('rgb_array')\n",
    "        action, _states = model.predict(obs)\n",
    "        obs,reward,done,info = env.step(action)\n",
    "        score += reward\n",
    "    print('Episode:{} Score:{}'.format(episode,score))\n",
    "    episodes_l.append(episode)\n",
    "    scores_l.append(score)\n",
    "# env.close()"
   ]
  },
  {
   "cell_type": "code",
   "execution_count": null,
   "id": "52be24b2-86c7-468f-986c-2e4c43d65a23",
   "metadata": {
    "gradient": {
     "editing": false,
     "execution_count": 26,
     "id": "52be24b2-86c7-468f-986c-2e4c43d65a23",
     "kernelId": "7ff4c2ba-b572-4533-9ab1-c81182b315fa",
     "source_hidden": false
    }
   },
   "outputs": [
    {
     "data": {
      "text/plain": [
       "[<matplotlib.lines.Line2D at 0x7fdf20186820>]"
      ]
     },
     "execution_count": 26,
     "metadata": {},
     "output_type": "execute_result"
    },
    {
     "data": {
      "image/png": "[encoded data removed]",
      "text/plain": [
       "<Figure size 432x288 with 1 Axes>"
      ]
     },
     "metadata": {
      "needs_background": "light"
     },
     "output_type": "display_data"
    }
   ],
   "source": [
    "from matplotlib import pyplot as plt\n",
    "plt.plot(episodes_l,scores_l,color='blue')\n",
    "plt.plot(a2c_episodes_l,a2c_scores_l,color='red')\n",
    "plt.plot(dqn_episodes_l,dqn_scores_l,color='green')"
   ]
  },
  {
   "cell_type": "code",
   "execution_count": null,
   "id": "673325e3-44db-4e7a-bf44-accbb077a2dd",
   "metadata": {
    "collapsed": true,
    "gradient": {
     "editing": false,
     "execution_count": 28,
     "id": "673325e3-44db-4e7a-bf44-accbb077a2dd",
     "kernelId": "7ff4c2ba-b572-4533-9ab1-c81182b315fa",
     "source_hidden": false
    }
   },
   "outputs": [
    {
     "ename": "KeyboardInterrupt",
     "evalue": "",
     "output_type": "error",
     "traceback": [
      "\u001b[0;31m---------------------------------------------------------------------------\u001b[0m",
      "\u001b[0;31mKeyboardInterrupt\u001b[0m                         Traceback (most recent call last)",
      "Input \u001b[0;32mIn [28]\u001b[0m, in \u001b[0;36m<module>\u001b[0;34m\u001b[0m\n\u001b[1;32m      2\u001b[0m avg_mean_ppo , std_dev_ppo \u001b[38;5;241m=\u001b[39m evaluate_policy(model,env,n_eval_episodes\u001b[38;5;241m=\u001b[39m\u001b[38;5;241m10\u001b[39m)\n\u001b[1;32m      3\u001b[0m avg_mean_a2c , std_dev_a2c \u001b[38;5;241m=\u001b[39m evaluate_policy(model_a2c,env,n_eval_episodes\u001b[38;5;241m=\u001b[39m\u001b[38;5;241m10\u001b[39m)\n\u001b[0;32m----> 4\u001b[0m avg_mean_dqn , std_dev_dqn \u001b[38;5;241m=\u001b[39m \u001b[43mevaluate_policy\u001b[49m\u001b[43m(\u001b[49m\u001b[43mmodel_dqn\u001b[49m\u001b[43m,\u001b[49m\u001b[43menv\u001b[49m\u001b[43m,\u001b[49m\u001b[43mn_eval_episodes\u001b[49m\u001b[38;5;241;43m=\u001b[39;49m\u001b[38;5;241;43m10\u001b[39;49m\u001b[43m)\u001b[49m\n",
      "File \u001b[0;32m/opt/conda/lib/python3.8/site-packages/stable_baselines3/common/evaluation.py:86\u001b[0m, in \u001b[0;36mevaluate_policy\u001b[0;34m(model, env, n_eval_episodes, deterministic, render, callback, reward_threshold, return_episode_rewards, warn)\u001b[0m\n\u001b[1;32m     84\u001b[0m episode_starts \u001b[38;5;241m=\u001b[39m np\u001b[38;5;241m.\u001b[39mones((env\u001b[38;5;241m.\u001b[39mnum_envs,), dtype\u001b[38;5;241m=\u001b[39m\u001b[38;5;28mbool\u001b[39m)\n\u001b[1;32m     85\u001b[0m \u001b[38;5;28;01mwhile\u001b[39;00m (episode_counts \u001b[38;5;241m<\u001b[39m episode_count_targets)\u001b[38;5;241m.\u001b[39many():\n\u001b[0;32m---> 86\u001b[0m     actions, states \u001b[38;5;241m=\u001b[39m \u001b[43mmodel\u001b[49m\u001b[38;5;241;43m.\u001b[39;49m\u001b[43mpredict\u001b[49m\u001b[43m(\u001b[49m\u001b[43mobservations\u001b[49m\u001b[43m,\u001b[49m\u001b[43m \u001b[49m\u001b[43mstate\u001b[49m\u001b[38;5;241;43m=\u001b[39;49m\u001b[43mstates\u001b[49m\u001b[43m,\u001b[49m\u001b[43m \u001b[49m\u001b[43mepisode_start\u001b[49m\u001b[38;5;241;43m=\u001b[39;49m\u001b[43mepisode_starts\u001b[49m\u001b[43m,\u001b[49m\u001b[43m \u001b[49m\u001b[43mdeterministic\u001b[49m\u001b[38;5;241;43m=\u001b[39;49m\u001b[43mdeterministic\u001b[49m\u001b[43m)\u001b[49m\n\u001b[1;32m     87\u001b[0m     observations, rewards, dones, infos \u001b[38;5;241m=\u001b[39m env\u001b[38;5;241m.\u001b[39mstep(actions)\n\u001b[1;32m     88\u001b[0m     current_rewards \u001b[38;5;241m+\u001b[39m\u001b[38;5;241m=\u001b[39m rewards\n",
      "File \u001b[0;32m/opt/conda/lib/python3.8/site-packages/stable_baselines3/dqn/dqn.py:242\u001b[0m, in \u001b[0;36mDQN.predict\u001b[0;34m(self, observation, state, episode_start, deterministic)\u001b[0m\n\u001b[1;32m    240\u001b[0m         action \u001b[38;5;241m=\u001b[39m np\u001b[38;5;241m.\u001b[39marray(\u001b[38;5;28mself\u001b[39m\u001b[38;5;241m.\u001b[39maction_space\u001b[38;5;241m.\u001b[39msample())\n\u001b[1;32m    241\u001b[0m \u001b[38;5;28;01melse\u001b[39;00m:\n\u001b[0;32m--> 242\u001b[0m     action, state \u001b[38;5;241m=\u001b[39m \u001b[38;5;28;43mself\u001b[39;49m\u001b[38;5;241;43m.\u001b[39;49m\u001b[43mpolicy\u001b[49m\u001b[38;5;241;43m.\u001b[39;49m\u001b[43mpredict\u001b[49m\u001b[43m(\u001b[49m\u001b[43mobservation\u001b[49m\u001b[43m,\u001b[49m\u001b[43m \u001b[49m\u001b[43mstate\u001b[49m\u001b[43m,\u001b[49m\u001b[43m \u001b[49m\u001b[43mepisode_start\u001b[49m\u001b[43m,\u001b[49m\u001b[43m \u001b[49m\u001b[43mdeterministic\u001b[49m\u001b[43m)\u001b[49m\n\u001b[1;32m    243\u001b[0m \u001b[38;5;28;01mreturn\u001b[39;00m action, state\n",
      "File \u001b[0;32m/opt/conda/lib/python3.8/site-packages/stable_baselines3/common/policies.py:340\u001b[0m, in \u001b[0;36mBasePolicy.predict\u001b[0;34m(self, observation, state, episode_start, deterministic)\u001b[0m\n\u001b[1;32m    338\u001b[0m     actions \u001b[38;5;241m=\u001b[39m \u001b[38;5;28mself\u001b[39m\u001b[38;5;241m.\u001b[39m_predict(observation, deterministic\u001b[38;5;241m=\u001b[39mdeterministic)\n\u001b[1;32m    339\u001b[0m \u001b[38;5;66;03m# Convert to numpy\u001b[39;00m\n\u001b[0;32m--> 340\u001b[0m actions \u001b[38;5;241m=\u001b[39m \u001b[43mactions\u001b[49m\u001b[38;5;241;43m.\u001b[39;49m\u001b[43mcpu\u001b[49m\u001b[43m(\u001b[49m\u001b[43m)\u001b[49m\u001b[38;5;241m.\u001b[39mnumpy()\n\u001b[1;32m    342\u001b[0m \u001b[38;5;28;01mif\u001b[39;00m \u001b[38;5;28misinstance\u001b[39m(\u001b[38;5;28mself\u001b[39m\u001b[38;5;241m.\u001b[39maction_space, gym\u001b[38;5;241m.\u001b[39mspaces\u001b[38;5;241m.\u001b[39mBox):\n\u001b[1;32m    343\u001b[0m     \u001b[38;5;28;01mif\u001b[39;00m \u001b[38;5;28mself\u001b[39m\u001b[38;5;241m.\u001b[39msquash_output:\n\u001b[1;32m    344\u001b[0m         \u001b[38;5;66;03m# Rescale to proper domain when using squashing\u001b[39;00m\n",
      "\u001b[0;31mKeyboardInterrupt\u001b[0m: "
     ]
    }
   ],
   "source": [
    "from stable_baselines3.common.evaluation import evaluate_policy\n",
    "avg_mean_ppo , std_dev_ppo = evaluate_policy(model,env,n_eval_episodes=10)\n",
    "avg_mean_a2c , std_dev_a2c = evaluate_policy(model_a2c,env,n_eval_episodes=10)\n",
    "avg_mean_dqn , std_dev_dqn = evaluate_policy(model_dqn,env,n_eval_episodes=10)"
   ]
  },
  {
   "cell_type": "code",
   "execution_count": null,
   "id": "08d38f95-eed6-4cf7-a1b9-1a0436de8ae9",
   "metadata": {
    "gradient": {
     "editing": false,
     "execution_count": 29,
     "id": "08d38f95-eed6-4cf7-a1b9-1a0436de8ae9",
     "kernelId": "7ff4c2ba-b572-4533-9ab1-c81182b315fa",
     "source_hidden": false
    }
   },
   "outputs": [],
   "source": [
    "import statistics\n",
    "s_avg_mean_ppo , s_std_dev_ppo = statistics.mean(scores_l), statistics.stdev(scores_l)\n",
    "s_avg_mean_a2c , s_std_dev_a2c = statistics.mean(a2c_scores_l), statistics.stdev(a2c_scores_l)\n",
    "s_avg_mean_dqn , s_std_dev_dqn = statistics.mean(dqn_scores_l), statistics.stdev(dqn_scores_l)"
   ]
  },
  {
   "cell_type": "code",
   "execution_count": null,
   "id": "73ec1c36-c5c8-4312-8d24-be4186b9c557",
   "metadata": {
    "gradient": {
     "editing": false,
     "execution_count": 34,
     "id": "73ec1c36-c5c8-4312-8d24-be4186b9c557",
     "kernelId": "7ff4c2ba-b572-4533-9ab1-c81182b315fa",
     "source_hidden": false
    }
   },
   "outputs": [
    {
     "name": "stdout",
     "output_type": "stream",
     "text": [
      "-----  ------  ------\n",
      "Model  Mean    Stdev\n",
      "PPO    86.315  147.19\n",
      "A2C    122.89  180.35\n",
      "DQN    96.68   143.47\n",
      "-----  ------  ------\n"
     ]
    }
   ],
   "source": [
    "from tabulate import tabulate\n",
    "\n",
    "mydata = [\n",
    "    ['Model', 'Mean', 'Stdev'],\n",
    "      ['PPO', s_avg_mean_ppo, round(s_std_dev_ppo,2)],\n",
    "      ['A2C', s_avg_mean_a2c, round(s_std_dev_a2c,2)],\n",
    "      ['DQN', s_avg_mean_dqn, round(s_std_dev_dqn,2)]\n",
    "]\n",
    " \n",
    "# display table\n",
    "print(tabulate(mydata))"
   ]
  }
 ],
 "metadata": {
  "kernelspec": {
   "display_name": "Python 3",
   "language": "python",
   "name": "python3"
  },
  "language_info": {
   "codemirror_mode": {
    "name": "ipython",
    "version": 3
   },
   "file_extension": ".py",
   "mimetype": "text/x-python",
   "name": "python",
   "nbconvert_exporter": "python",
   "pygments_lexer": "ipython3",
   "version": "3.8.8"
  }
 },
 "nbformat": 4,
 "nbformat_minor": 5
}
